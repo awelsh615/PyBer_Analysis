{
 "cells": [
  {
   "cell_type": "code",
   "execution_count": null,
   "id": "a036a516-daa6-4933-a104-03c2a1e2384a",
   "metadata": {},
   "outputs": [],
   "source": [
    "# Magic command\n",
    "%matplotlib inline\n",
    "\n",
    "# Import dependencies\n",
    "import matplotlib.pyplot as plt\n",
    "import numpy as np\n",
    "import pandas as pd"
   ]
  },
  {
   "cell_type": "code",
   "execution_count": null,
   "id": "a83e09c8-ff94-4b2b-8010-cc0012cd8e0d",
   "metadata": {},
   "outputs": [],
   "source": [
    "# Load in the csv file\n",
    "ride_data_df = pd.read_csv('Resources/ride_data.csv')\n",
    "city_data_df = pd.read_csv('Resources/city_data.csv')\n",
    "city_data_df.head()"
   ]
  },
  {
   "cell_type": "code",
   "execution_count": null,
   "id": "a6956057-cea9-4f59-b2ba-319896b19582",
   "metadata": {},
   "outputs": [],
   "source": []
  },
  {
   "cell_type": "code",
   "execution_count": null,
   "id": "f69e9400-e6d3-4cc8-87e0-c131f0e77055",
   "metadata": {},
   "outputs": [],
   "source": []
  }
 ],
 "metadata": {
  "kernelspec": {
   "display_name": "PyData",
   "language": "python",
   "name": "pydata"
  },
  "language_info": {
   "name": ""
  }
 },
 "nbformat": 4,
 "nbformat_minor": 5
}
